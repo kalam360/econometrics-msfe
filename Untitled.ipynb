{
 "cells": [
  {
   "cell_type": "markdown",
   "metadata": {},
   "source": [
    "# Submission 3: Algorithmic Trading Strategy\n",
    "For this submission, you will extend ARMA to model non-linear patterns, which are often encountered in financial time series data. Basic forms of neural networks are implemented to obtain short-term predictions that can be used as trading signals in algorithmic trading strategies."
   ]
  },
  {
   "cell_type": "markdown",
   "metadata": {},
   "source": [
    "### Developing an Algorithmic Trading Strategy\n",
    "**Design your own algorithmic trading strategy, with the following characteristics:**\n",
    "- Number of assets in the strategy: One or more assets\n",
    "- **Type of asset:** Select the type of asset that you prefer: stock, commodity, FX, crypto etc) \n",
    "- **Time frame:** Your choice\n",
    "- **Coding language:** R or Python. You can use Excel for basic calculations and testing\n",
    "- **Model:** regression, ARMA, GARCH, VAR, VEC or any other quantitative model you know. \n",
    "    You can combine the selected model with technical analysis indicators (MA, MACD, Bollinger bands, etc.) \n",
    "    as shown in the examples provided in the course. You may also use a machine learning algorithm (optional)."
   ]
  },
  {
   "cell_type": "markdown",
   "metadata": {},
   "source": [
    "### Writing Your Report\n",
    "**Write a well-structured formal report on the algorithmic trading strategy that you have developed with introduction, comments, code, and conclusion sections. The report must include the following sections:**\n",
    "- Introduction\n",
    "- Description of the trading strategy that you have developed,step by step\n",
    "- The R or Python code that you have developed including clear comments\n",
    "- Excel calculations (if used): include screenshots of your calculations and the used parameters\n",
    "- Calculation of returns,cumulative returns,standard deviation,and forecasts\n",
    "- The results of your analysis and the obtained charts\n",
    "- Possible ways for improving the algorithmic trading strategy that you have developed \n",
    "- Conclusions, and References"
   ]
  },
  {
   "cell_type": "code",
   "execution_count": null,
   "metadata": {},
   "outputs": [],
   "source": []
  }
 ],
 "metadata": {
  "kernelspec": {
   "display_name": "Python 3",
   "language": "python",
   "name": "python3"
  },
  "language_info": {
   "codemirror_mode": {
    "name": "ipython",
    "version": 3
   },
   "file_extension": ".py",
   "mimetype": "text/x-python",
   "name": "python",
   "nbconvert_exporter": "python",
   "pygments_lexer": "ipython3",
   "version": "3.7.4"
  }
 },
 "nbformat": 4,
 "nbformat_minor": 4
}
