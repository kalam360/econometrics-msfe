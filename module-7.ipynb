{
 "cells": [
  {
   "cell_type": "markdown",
   "metadata": {},
   "source": [
    "### Unit 1: Algorithmic Trading Strategies"
   ]
  },
  {
   "cell_type": "markdown",
   "metadata": {},
   "source": [
    "### [Trading Vix](https://quantstrattrader.wordpress.com/)"
   ]
  },
  {
   "cell_type": "markdown",
   "metadata": {},
   "source": [
    "- Momentum Strategies\n",
    "- Mean Reversion Strategies\n",
    "- Pair Trading\n",
    "- Statistical Arbitrages\n",
    "- Event Arbitrages\n",
    "- News Based Trading\n"
   ]
  },
  {
   "cell_type": "markdown",
   "metadata": {},
   "source": [
    "### Unit 2: Pair Trading"
   ]
  },
  {
   "cell_type": "code",
   "execution_count": 126,
   "metadata": {},
   "outputs": [],
   "source": [
    "%config Completer.use_jedi = False"
   ]
  },
  {
   "cell_type": "code",
   "execution_count": 12,
   "metadata": {},
   "outputs": [
    {
     "data": {
      "text/plain": [
       "['KO', 'PEP', 'RNL', 'UG', 'XOM', 'CVX']"
      ]
     },
     "execution_count": 12,
     "metadata": {},
     "output_type": "execute_result"
    }
   ],
   "source": [
    "pairs = [[\"KO\", \"PEP\"], [\"RNL\", \"UG\"], [\"XOM\", \"CVX\"]]\n",
    "tf = [\"2015-01-02\", \"2015-11-26\"]\n",
    "sum(pairs, [])"
   ]
  },
  {
   "cell_type": "code",
   "execution_count": 54,
   "metadata": {},
   "outputs": [],
   "source": [
    "import warnings\n",
    "warnings.filterwarnings(\"ignore\")\n",
    "import pandas as pd\n",
    "import pandas_datareader.data as pdr\n",
    "import matplotlib.pyplot as plt\n",
    "import seaborn as sns\n",
    "sns.set(rc={'figure.figsize':(10,7)})"
   ]
  },
  {
   "cell_type": "code",
   "execution_count": 15,
   "metadata": {},
   "outputs": [],
   "source": [
    "df = pdr.DataReader(sum(pairs,[]), data_source=\"yahoo\", start=tf[0], end=tf[1]  )['Adj Close']"
   ]
  },
  {
   "cell_type": "code",
   "execution_count": 16,
   "metadata": {},
   "outputs": [
    {
     "data": {
      "text/html": [
       "<div>\n",
       "<style scoped>\n",
       "    .dataframe tbody tr th:only-of-type {\n",
       "        vertical-align: middle;\n",
       "    }\n",
       "\n",
       "    .dataframe tbody tr th {\n",
       "        vertical-align: top;\n",
       "    }\n",
       "\n",
       "    .dataframe thead th {\n",
       "        text-align: right;\n",
       "    }\n",
       "</style>\n",
       "<table border=\"1\" class=\"dataframe\">\n",
       "  <thead>\n",
       "    <tr style=\"text-align: right;\">\n",
       "      <th>Symbols</th>\n",
       "      <th>KO</th>\n",
       "      <th>PEP</th>\n",
       "      <th>UG</th>\n",
       "      <th>XOM</th>\n",
       "      <th>CVX</th>\n",
       "      <th>RNL</th>\n",
       "    </tr>\n",
       "    <tr>\n",
       "      <th>Date</th>\n",
       "      <th></th>\n",
       "      <th></th>\n",
       "      <th></th>\n",
       "      <th></th>\n",
       "      <th></th>\n",
       "      <th></th>\n",
       "    </tr>\n",
       "  </thead>\n",
       "  <tbody>\n",
       "    <tr>\n",
       "      <th>2015-01-02</th>\n",
       "      <td>35.491245</td>\n",
       "      <td>80.964714</td>\n",
       "      <td>15.096222</td>\n",
       "      <td>75.439079</td>\n",
       "      <td>90.693550</td>\n",
       "      <td>NaN</td>\n",
       "    </tr>\n",
       "    <tr>\n",
       "      <th>2015-01-05</th>\n",
       "      <td>35.491245</td>\n",
       "      <td>80.356018</td>\n",
       "      <td>14.855739</td>\n",
       "      <td>73.374931</td>\n",
       "      <td>87.068390</td>\n",
       "      <td>NaN</td>\n",
       "    </tr>\n",
       "    <tr>\n",
       "      <th>2015-01-06</th>\n",
       "      <td>35.760750</td>\n",
       "      <td>79.747322</td>\n",
       "      <td>14.879011</td>\n",
       "      <td>72.984848</td>\n",
       "      <td>87.028099</td>\n",
       "      <td>NaN</td>\n",
       "    </tr>\n",
       "    <tr>\n",
       "      <th>2015-01-07</th>\n",
       "      <td>36.207142</td>\n",
       "      <td>82.079216</td>\n",
       "      <td>14.669559</td>\n",
       "      <td>73.724373</td>\n",
       "      <td>86.955597</td>\n",
       "      <td>NaN</td>\n",
       "    </tr>\n",
       "    <tr>\n",
       "      <th>2015-01-08</th>\n",
       "      <td>36.645096</td>\n",
       "      <td>83.570938</td>\n",
       "      <td>14.638526</td>\n",
       "      <td>74.951500</td>\n",
       "      <td>88.945412</td>\n",
       "      <td>NaN</td>\n",
       "    </tr>\n",
       "    <tr>\n",
       "      <th>...</th>\n",
       "      <td>...</td>\n",
       "      <td>...</td>\n",
       "      <td>...</td>\n",
       "      <td>...</td>\n",
       "      <td>...</td>\n",
       "      <td>...</td>\n",
       "    </tr>\n",
       "    <tr>\n",
       "      <th>2015-11-19</th>\n",
       "      <td>37.231300</td>\n",
       "      <td>88.431473</td>\n",
       "      <td>14.635066</td>\n",
       "      <td>67.495033</td>\n",
       "      <td>76.490318</td>\n",
       "      <td>NaN</td>\n",
       "    </tr>\n",
       "    <tr>\n",
       "      <th>2015-11-20</th>\n",
       "      <td>36.644028</td>\n",
       "      <td>87.704231</td>\n",
       "      <td>14.714391</td>\n",
       "      <td>67.066353</td>\n",
       "      <td>74.957657</td>\n",
       "      <td>NaN</td>\n",
       "    </tr>\n",
       "    <tr>\n",
       "      <th>2015-11-23</th>\n",
       "      <td>37.101749</td>\n",
       "      <td>88.361351</td>\n",
       "      <td>14.928561</td>\n",
       "      <td>67.478218</td>\n",
       "      <td>75.799789</td>\n",
       "      <td>NaN</td>\n",
       "    </tr>\n",
       "    <tr>\n",
       "      <th>2015-11-24</th>\n",
       "      <td>37.447205</td>\n",
       "      <td>88.168625</td>\n",
       "      <td>15.007884</td>\n",
       "      <td>68.823067</td>\n",
       "      <td>76.928223</td>\n",
       "      <td>NaN</td>\n",
       "    </tr>\n",
       "    <tr>\n",
       "      <th>2015-11-25</th>\n",
       "      <td>37.447205</td>\n",
       "      <td>88.054726</td>\n",
       "      <td>15.126868</td>\n",
       "      <td>68.293526</td>\n",
       "      <td>76.523987</td>\n",
       "      <td>NaN</td>\n",
       "    </tr>\n",
       "  </tbody>\n",
       "</table>\n",
       "<p>228 rows × 6 columns</p>\n",
       "</div>"
      ],
      "text/plain": [
       "Symbols            KO        PEP         UG        XOM        CVX  RNL\n",
       "Date                                                                  \n",
       "2015-01-02  35.491245  80.964714  15.096222  75.439079  90.693550  NaN\n",
       "2015-01-05  35.491245  80.356018  14.855739  73.374931  87.068390  NaN\n",
       "2015-01-06  35.760750  79.747322  14.879011  72.984848  87.028099  NaN\n",
       "2015-01-07  36.207142  82.079216  14.669559  73.724373  86.955597  NaN\n",
       "2015-01-08  36.645096  83.570938  14.638526  74.951500  88.945412  NaN\n",
       "...               ...        ...        ...        ...        ...  ...\n",
       "2015-11-19  37.231300  88.431473  14.635066  67.495033  76.490318  NaN\n",
       "2015-11-20  36.644028  87.704231  14.714391  67.066353  74.957657  NaN\n",
       "2015-11-23  37.101749  88.361351  14.928561  67.478218  75.799789  NaN\n",
       "2015-11-24  37.447205  88.168625  15.007884  68.823067  76.928223  NaN\n",
       "2015-11-25  37.447205  88.054726  15.126868  68.293526  76.523987  NaN\n",
       "\n",
       "[228 rows x 6 columns]"
      ]
     },
     "execution_count": 16,
     "metadata": {},
     "output_type": "execute_result"
    }
   ],
   "source": [
    "df"
   ]
  },
  {
   "cell_type": "code",
   "execution_count": 67,
   "metadata": {},
   "outputs": [],
   "source": [
    "dfp = df[pairs[0]]"
   ]
  },
  {
   "cell_type": "code",
   "execution_count": 68,
   "metadata": {},
   "outputs": [],
   "source": [
    "dfp['diff'] = dfp['KO'] - dfp[\"PEP\"]"
   ]
  },
  {
   "cell_type": "code",
   "execution_count": 69,
   "metadata": {},
   "outputs": [
    {
     "data": {
      "text/plain": [
       "<matplotlib.axes._subplots.AxesSubplot at 0x128283150>"
      ]
     },
     "execution_count": 69,
     "metadata": {},
     "output_type": "execute_result"
    },
    {
     "data": {
      "image/png": "[encoded data removed]",
      "text/plain": [
       "<Figure size 720x504 with 1 Axes>"
      ]
     },
     "metadata": {},
     "output_type": "display_data"
    }
   ],
   "source": [
    "dfp.plot()"
   ]
  },
  {
   "cell_type": "code",
   "execution_count": 70,
   "metadata": {},
   "outputs": [
    {
     "data": {
      "text/html": [
       "<div>\n",
       "<style scoped>\n",
       "    .dataframe tbody tr th:only-of-type {\n",
       "        vertical-align: middle;\n",
       "    }\n",
       "\n",
       "    .dataframe tbody tr th {\n",
       "        vertical-align: top;\n",
       "    }\n",
       "\n",
       "    .dataframe thead th {\n",
       "        text-align: right;\n",
       "    }\n",
       "</style>\n",
       "<table border=\"1\" class=\"dataframe\">\n",
       "  <thead>\n",
       "    <tr style=\"text-align: right;\">\n",
       "      <th>Symbols</th>\n",
       "      <th>KO</th>\n",
       "      <th>PEP</th>\n",
       "    </tr>\n",
       "    <tr>\n",
       "      <th>Symbols</th>\n",
       "      <th></th>\n",
       "      <th></th>\n",
       "    </tr>\n",
       "  </thead>\n",
       "  <tbody>\n",
       "    <tr>\n",
       "      <th>KO</th>\n",
       "      <td>1.00000</td>\n",
       "      <td>0.84212</td>\n",
       "    </tr>\n",
       "    <tr>\n",
       "      <th>PEP</th>\n",
       "      <td>0.84212</td>\n",
       "      <td>1.00000</td>\n",
       "    </tr>\n",
       "  </tbody>\n",
       "</table>\n",
       "</div>"
      ],
      "text/plain": [
       "Symbols       KO      PEP\n",
       "Symbols                  \n",
       "KO       1.00000  0.84212\n",
       "PEP      0.84212  1.00000"
      ]
     },
     "execution_count": 70,
     "metadata": {},
     "output_type": "execute_result"
    }
   ],
   "source": [
    "dfp[[\"KO\", \"PEP\"]].corr()"
   ]
  },
  {
   "cell_type": "code",
   "execution_count": 71,
   "metadata": {},
   "outputs": [
    {
     "data": {
      "text/html": [
       "<div>\n",
       "<style scoped>\n",
       "    .dataframe tbody tr th:only-of-type {\n",
       "        vertical-align: middle;\n",
       "    }\n",
       "\n",
       "    .dataframe tbody tr th {\n",
       "        vertical-align: top;\n",
       "    }\n",
       "\n",
       "    .dataframe thead th {\n",
       "        text-align: right;\n",
       "    }\n",
       "</style>\n",
       "<table border=\"1\" class=\"dataframe\">\n",
       "  <thead>\n",
       "    <tr style=\"text-align: right;\">\n",
       "      <th>Symbols</th>\n",
       "      <th>KO</th>\n",
       "      <th>PEP</th>\n",
       "      <th>diff</th>\n",
       "      <th>mva</th>\n",
       "      <th>mvstd</th>\n",
       "    </tr>\n",
       "    <tr>\n",
       "      <th>Date</th>\n",
       "      <th></th>\n",
       "      <th></th>\n",
       "      <th></th>\n",
       "      <th></th>\n",
       "      <th></th>\n",
       "    </tr>\n",
       "  </thead>\n",
       "  <tbody>\n",
       "    <tr>\n",
       "      <th>2015-01-02</th>\n",
       "      <td>35.491245</td>\n",
       "      <td>80.964714</td>\n",
       "      <td>-45.473469</td>\n",
       "      <td>-45.473469</td>\n",
       "      <td>NaN</td>\n",
       "    </tr>\n",
       "    <tr>\n",
       "      <th>2015-01-05</th>\n",
       "      <td>35.491245</td>\n",
       "      <td>80.356018</td>\n",
       "      <td>-44.864773</td>\n",
       "      <td>-45.169121</td>\n",
       "      <td>0.430413</td>\n",
       "    </tr>\n",
       "    <tr>\n",
       "      <th>2015-01-06</th>\n",
       "      <td>35.760750</td>\n",
       "      <td>79.747322</td>\n",
       "      <td>-43.986572</td>\n",
       "      <td>-44.774938</td>\n",
       "      <td>0.747508</td>\n",
       "    </tr>\n",
       "    <tr>\n",
       "      <th>2015-01-07</th>\n",
       "      <td>36.207142</td>\n",
       "      <td>82.079216</td>\n",
       "      <td>-45.872074</td>\n",
       "      <td>-45.049222</td>\n",
       "      <td>0.820633</td>\n",
       "    </tr>\n",
       "    <tr>\n",
       "      <th>2015-01-08</th>\n",
       "      <td>36.645096</td>\n",
       "      <td>83.570938</td>\n",
       "      <td>-46.925842</td>\n",
       "      <td>-45.424546</td>\n",
       "      <td>1.099736</td>\n",
       "    </tr>\n",
       "  </tbody>\n",
       "</table>\n",
       "</div>"
      ],
      "text/plain": [
       "Symbols            KO        PEP       diff        mva     mvstd\n",
       "Date                                                            \n",
       "2015-01-02  35.491245  80.964714 -45.473469 -45.473469       NaN\n",
       "2015-01-05  35.491245  80.356018 -44.864773 -45.169121  0.430413\n",
       "2015-01-06  35.760750  79.747322 -43.986572 -44.774938  0.747508\n",
       "2015-01-07  36.207142  82.079216 -45.872074 -45.049222  0.820633\n",
       "2015-01-08  36.645096  83.570938 -46.925842 -45.424546  1.099736"
      ]
     },
     "execution_count": 71,
     "metadata": {},
     "output_type": "execute_result"
    }
   ],
   "source": [
    "dfp['mva'] = dfp['diff'].expanding(1).mean()\n",
    "dfp['mvstd'] = dfp['diff'].expanding(1).std()\n",
    "dfp.head()"
   ]
  },
  {
   "cell_type": "code",
   "execution_count": 74,
   "metadata": {},
   "outputs": [
    {
     "data": {
      "text/plain": [
       "[<matplotlib.lines.Line2D at 0x1281379d0>]"
      ]
     },
     "execution_count": 74,
     "metadata": {},
     "output_type": "execute_result"
    },
    {
     "data": {
      "image/png": "[encoded data removed]",
      "text/plain": [
       "<Figure size 720x504 with 1 Axes>"
      ]
     },
     "metadata": {},
     "output_type": "display_data"
    }
   ],
   "source": [
    "plt.plot(dfp['KO'], dfp['PEP'], 'bo')"
   ]
  },
  {
   "cell_type": "code",
   "execution_count": 76,
   "metadata": {},
   "outputs": [],
   "source": [
    "import statsmodels.api as sm"
   ]
  },
  {
   "cell_type": "code",
   "execution_count": 121,
   "metadata": {},
   "outputs": [
    {
     "data": {
      "text/plain": [
       "[<matplotlib.lines.Line2D at 0x12730c910>]"
      ]
     },
     "execution_count": 121,
     "metadata": {},
     "output_type": "execute_result"
    },
    {
     "data": {
      "image/png": "[encoded data removed]",
      "text/plain": [
       "<Figure size 720x504 with 1 Axes>"
      ]
     },
     "metadata": {},
     "output_type": "display_data"
    }
   ],
   "source": [
    "res = sm.OLS(dfp['PEP'], sm.add_constant(dfp['KO'])).fit()\n",
    "x = dfp['KO'].sort_values(ascending=True)\n",
    "X = sm.add_constant(x)\n",
    "y = res.predict(X)\n",
    "plt.plot(y,x)\n",
    "plt.plot(dfp['PEP'], dfp['KO'], 'bo')"
   ]
  },
  {
   "cell_type": "code",
   "execution_count": 123,
   "metadata": {},
   "outputs": [],
   "source": [
    "dfr = dfp.drop(['diff', 'mva', 'mvstd'], axis=1)"
   ]
  },
  {
   "cell_type": "code",
   "execution_count": 127,
   "metadata": {},
   "outputs": [],
   "source": [
    "import statsmodels as stm"
   ]
  },
  {
   "cell_type": "code",
   "execution_count": 130,
   "metadata": {},
   "outputs": [],
   "source": [
    "dfr.columns = ['Coke', 'Pepsi']"
   ]
  },
  {
   "cell_type": "code",
   "execution_count": 131,
   "metadata": {},
   "outputs": [
    {
     "data": {
      "text/html": [
       "<div>\n",
       "<style scoped>\n",
       "    .dataframe tbody tr th:only-of-type {\n",
       "        vertical-align: middle;\n",
       "    }\n",
       "\n",
       "    .dataframe tbody tr th {\n",
       "        vertical-align: top;\n",
       "    }\n",
       "\n",
       "    .dataframe thead th {\n",
       "        text-align: right;\n",
       "    }\n",
       "</style>\n",
       "<table border=\"1\" class=\"dataframe\">\n",
       "  <thead>\n",
       "    <tr style=\"text-align: right;\">\n",
       "      <th></th>\n",
       "      <th>Coke</th>\n",
       "      <th>Pepsi</th>\n",
       "    </tr>\n",
       "    <tr>\n",
       "      <th>Date</th>\n",
       "      <th></th>\n",
       "      <th></th>\n",
       "    </tr>\n",
       "  </thead>\n",
       "  <tbody>\n",
       "    <tr>\n",
       "      <th>2015-01-02</th>\n",
       "      <td>35.491245</td>\n",
       "      <td>80.964714</td>\n",
       "    </tr>\n",
       "    <tr>\n",
       "      <th>2015-01-05</th>\n",
       "      <td>35.491245</td>\n",
       "      <td>80.356018</td>\n",
       "    </tr>\n",
       "    <tr>\n",
       "      <th>2015-01-06</th>\n",
       "      <td>35.760750</td>\n",
       "      <td>79.747322</td>\n",
       "    </tr>\n",
       "    <tr>\n",
       "      <th>2015-01-07</th>\n",
       "      <td>36.207142</td>\n",
       "      <td>82.079216</td>\n",
       "    </tr>\n",
       "    <tr>\n",
       "      <th>2015-01-08</th>\n",
       "      <td>36.645096</td>\n",
       "      <td>83.570938</td>\n",
       "    </tr>\n",
       "    <tr>\n",
       "      <th>...</th>\n",
       "      <td>...</td>\n",
       "      <td>...</td>\n",
       "    </tr>\n",
       "    <tr>\n",
       "      <th>2015-11-19</th>\n",
       "      <td>37.231300</td>\n",
       "      <td>88.431473</td>\n",
       "    </tr>\n",
       "    <tr>\n",
       "      <th>2015-11-20</th>\n",
       "      <td>36.644028</td>\n",
       "      <td>87.704231</td>\n",
       "    </tr>\n",
       "    <tr>\n",
       "      <th>2015-11-23</th>\n",
       "      <td>37.101749</td>\n",
       "      <td>88.361351</td>\n",
       "    </tr>\n",
       "    <tr>\n",
       "      <th>2015-11-24</th>\n",
       "      <td>37.447205</td>\n",
       "      <td>88.168625</td>\n",
       "    </tr>\n",
       "    <tr>\n",
       "      <th>2015-11-25</th>\n",
       "      <td>37.447205</td>\n",
       "      <td>88.054726</td>\n",
       "    </tr>\n",
       "  </tbody>\n",
       "</table>\n",
       "<p>228 rows × 2 columns</p>\n",
       "</div>"
      ],
      "text/plain": [
       "                 Coke      Pepsi\n",
       "Date                            \n",
       "2015-01-02  35.491245  80.964714\n",
       "2015-01-05  35.491245  80.356018\n",
       "2015-01-06  35.760750  79.747322\n",
       "2015-01-07  36.207142  82.079216\n",
       "2015-01-08  36.645096  83.570938\n",
       "...               ...        ...\n",
       "2015-11-19  37.231300  88.431473\n",
       "2015-11-20  36.644028  87.704231\n",
       "2015-11-23  37.101749  88.361351\n",
       "2015-11-24  37.447205  88.168625\n",
       "2015-11-25  37.447205  88.054726\n",
       "\n",
       "[228 rows x 2 columns]"
      ]
     },
     "execution_count": 131,
     "metadata": {},
     "output_type": "execute_result"
    }
   ],
   "source": [
    "dfr"
   ]
  },
  {
   "cell_type": "markdown",
   "metadata": {},
   "source": [
    "## Algorithmic Trading with Neural Networks"
   ]
  },
  {
   "cell_type": "code",
   "execution_count": null,
   "metadata": {},
   "outputs": [],
   "source": []
  }
 ],
 "metadata": {
  "kernelspec": {
   "display_name": "Python 3",
   "language": "python",
   "name": "python3"
  },
  "language_info": {
   "codemirror_mode": {
    "name": "ipython",
    "version": 3
   },
   "file_extension": ".py",
   "mimetype": "text/x-python",
   "name": "python",
   "nbconvert_exporter": "python",
   "pygments_lexer": "ipython3",
   "version": "3.7.4"
  }
 },
 "nbformat": 4,
 "nbformat_minor": 4
}
